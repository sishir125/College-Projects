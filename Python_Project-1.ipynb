{
 "cells": [
  {
   "cell_type": "code",
   "execution_count": 2,
   "metadata": {},
   "outputs": [],
   "source": [
    "import pandas as pd \n",
    "import pandas_datareader.data as reader\n",
    "import datetime as dt\n",
    "import statsmodels.api as sm\n",
    "import matplotlib.pyplot as plt\n",
    "import getFamaFrenchFactors as gff\n",
    "import seaborn as sns \n"
   ]
  },
  {
   "cell_type": "code",
   "execution_count": 3,
   "metadata": {},
   "outputs": [],
   "source": [
    "#Timeframe and Ticker\n",
    "end = dt.datetime.now()\n",
    "#Considering Historical data of last 6 years \n",
    "start = dt.date(end.year - 6,end.month, end.day) \n",
    "ticker = [\"GOOG\"] #Chosen Stock"
   ]
  },
  {
   "cell_type": "code",
   "execution_count": 4,
   "metadata": {},
   "outputs": [
    {
     "data": {
      "text/html": [
       "<div>\n",
       "<style scoped>\n",
       "    .dataframe tbody tr th:only-of-type {\n",
       "        vertical-align: middle;\n",
       "    }\n",
       "\n",
       "    .dataframe tbody tr th {\n",
       "        vertical-align: top;\n",
       "    }\n",
       "\n",
       "    .dataframe thead th {\n",
       "        text-align: right;\n",
       "    }\n",
       "</style>\n",
       "<table border=\"1\" class=\"dataframe\">\n",
       "  <thead>\n",
       "    <tr style=\"text-align: right;\">\n",
       "      <th>Symbols</th>\n",
       "      <th>GOOG</th>\n",
       "    </tr>\n",
       "    <tr>\n",
       "      <th>Date</th>\n",
       "      <th></th>\n",
       "    </tr>\n",
       "  </thead>\n",
       "  <tbody>\n",
       "    <tr>\n",
       "      <th>2015-12-16</th>\n",
       "      <td>758.090027</td>\n",
       "    </tr>\n",
       "    <tr>\n",
       "      <th>2015-12-17</th>\n",
       "      <td>749.429993</td>\n",
       "    </tr>\n",
       "    <tr>\n",
       "      <th>2015-12-18</th>\n",
       "      <td>739.309998</td>\n",
       "    </tr>\n",
       "    <tr>\n",
       "      <th>2015-12-21</th>\n",
       "      <td>747.770020</td>\n",
       "    </tr>\n",
       "    <tr>\n",
       "      <th>2015-12-22</th>\n",
       "      <td>750.000000</td>\n",
       "    </tr>\n",
       "  </tbody>\n",
       "</table>\n",
       "</div>"
      ],
      "text/plain": [
       "Symbols           GOOG\n",
       "Date                  \n",
       "2015-12-16  758.090027\n",
       "2015-12-17  749.429993\n",
       "2015-12-18  739.309998\n",
       "2015-12-21  747.770020\n",
       "2015-12-22  750.000000"
      ]
     },
     "execution_count": 4,
     "metadata": {},
     "output_type": "execute_result"
    }
   ],
   "source": [
    "stock_prices = reader.get_data_yahoo(ticker, start, end)['Adj Close']\n",
    "stock_prices.head()"
   ]
  },
  {
   "cell_type": "code",
   "execution_count": 6,
   "metadata": {},
   "outputs": [
    {
     "data": {
      "text/html": [
       "<div>\n",
       "<style scoped>\n",
       "    .dataframe tbody tr th:only-of-type {\n",
       "        vertical-align: middle;\n",
       "    }\n",
       "\n",
       "    .dataframe tbody tr th {\n",
       "        vertical-align: top;\n",
       "    }\n",
       "\n",
       "    .dataframe thead th {\n",
       "        text-align: right;\n",
       "    }\n",
       "</style>\n",
       "<table border=\"1\" class=\"dataframe\">\n",
       "  <thead>\n",
       "    <tr style=\"text-align: right;\">\n",
       "      <th>Symbols</th>\n",
       "      <th>GOOG</th>\n",
       "    </tr>\n",
       "    <tr>\n",
       "      <th>Date</th>\n",
       "      <th></th>\n",
       "    </tr>\n",
       "  </thead>\n",
       "  <tbody>\n",
       "    <tr>\n",
       "      <th>2015-12-31</th>\n",
       "      <td>758.880005</td>\n",
       "    </tr>\n",
       "    <tr>\n",
       "      <th>2016-01-31</th>\n",
       "      <td>742.950012</td>\n",
       "    </tr>\n",
       "    <tr>\n",
       "      <th>2016-02-29</th>\n",
       "      <td>697.770020</td>\n",
       "    </tr>\n",
       "    <tr>\n",
       "      <th>2016-03-31</th>\n",
       "      <td>744.950012</td>\n",
       "    </tr>\n",
       "    <tr>\n",
       "      <th>2016-04-30</th>\n",
       "      <td>693.010010</td>\n",
       "    </tr>\n",
       "  </tbody>\n",
       "</table>\n",
       "</div>"
      ],
      "text/plain": [
       "Symbols           GOOG\n",
       "Date                  \n",
       "2015-12-31  758.880005\n",
       "2016-01-31  742.950012\n",
       "2016-02-29  697.770020\n",
       "2016-03-31  744.950012\n",
       "2016-04-30  693.010010"
      ]
     },
     "execution_count": 6,
     "metadata": {},
     "output_type": "execute_result"
    }
   ],
   "source": [
    "#Lets use monthly frequency \n",
    "stock_prices = stock_prices.resample('1M').last()\n",
    "stock_prices.head()"
   ]
  },
  {
   "cell_type": "code",
   "execution_count": 7,
   "metadata": {},
   "outputs": [
    {
     "data": {
      "text/html": [
       "<div>\n",
       "<style scoped>\n",
       "    .dataframe tbody tr th:only-of-type {\n",
       "        vertical-align: middle;\n",
       "    }\n",
       "\n",
       "    .dataframe tbody tr th {\n",
       "        vertical-align: top;\n",
       "    }\n",
       "\n",
       "    .dataframe thead th {\n",
       "        text-align: right;\n",
       "    }\n",
       "</style>\n",
       "<table border=\"1\" class=\"dataframe\">\n",
       "  <thead>\n",
       "    <tr style=\"text-align: right;\">\n",
       "      <th>Symbols</th>\n",
       "      <th>GOOG</th>\n",
       "    </tr>\n",
       "    <tr>\n",
       "      <th>Date</th>\n",
       "      <th></th>\n",
       "    </tr>\n",
       "  </thead>\n",
       "  <tbody>\n",
       "    <tr>\n",
       "      <th>2016-01-31</th>\n",
       "      <td>-0.020991</td>\n",
       "    </tr>\n",
       "    <tr>\n",
       "      <th>2016-02-29</th>\n",
       "      <td>-0.060812</td>\n",
       "    </tr>\n",
       "    <tr>\n",
       "      <th>2016-03-31</th>\n",
       "      <td>0.067615</td>\n",
       "    </tr>\n",
       "    <tr>\n",
       "      <th>2016-04-30</th>\n",
       "      <td>-0.069723</td>\n",
       "    </tr>\n",
       "    <tr>\n",
       "      <th>2016-05-31</th>\n",
       "      <td>0.061630</td>\n",
       "    </tr>\n",
       "  </tbody>\n",
       "</table>\n",
       "</div>"
      ],
      "text/plain": [
       "Symbols         GOOG\n",
       "Date                \n",
       "2016-01-31 -0.020991\n",
       "2016-02-29 -0.060812\n",
       "2016-03-31  0.067615\n",
       "2016-04-30 -0.069723\n",
       "2016-05-31  0.061630"
      ]
     },
     "execution_count": 7,
     "metadata": {},
     "output_type": "execute_result"
    }
   ],
   "source": [
    "#monthly returns \n",
    "stock_returns = stock_prices.pct_change()\n",
    "stock_returns = stock_returns.dropna()\n",
    "stock_returns.head()"
   ]
  },
  {
   "cell_type": "code",
   "execution_count": 1,
   "metadata": {},
   "outputs": [
    {
     "ename": "NameError",
     "evalue": "name 'pd' is not defined",
     "output_type": "error",
     "traceback": [
      "\u001b[1;31m---------------------------------------------------------------------------\u001b[0m",
      "\u001b[1;31mNameError\u001b[0m                                 Traceback (most recent call last)",
      "\u001b[1;32m<ipython-input-1-079afb6289f5>\u001b[0m in \u001b[0;36m<module>\u001b[1;34m\u001b[0m\n\u001b[0;32m      4\u001b[0m \u001b[1;31m#Second is the SMB which is the return on a portfolio of small firms minus the return on large firms\u001b[0m\u001b[1;33m\u001b[0m\u001b[1;33m\u001b[0m\u001b[1;33m\u001b[0m\u001b[0m\n\u001b[0;32m      5\u001b[0m \u001b[1;31m# third is the return on a portfolio of value stocks minus that of the growth stocks\u001b[0m\u001b[1;33m\u001b[0m\u001b[1;33m\u001b[0m\u001b[1;33m\u001b[0m\u001b[0m\n\u001b[1;32m----> 6\u001b[1;33m \u001b[0mff3_monthly\u001b[0m \u001b[1;33m=\u001b[0m \u001b[0mpd\u001b[0m\u001b[1;33m.\u001b[0m\u001b[0mDataFrame\u001b[0m\u001b[1;33m(\u001b[0m\u001b[0mgff\u001b[0m\u001b[1;33m.\u001b[0m\u001b[0mfamaFrench3Factor\u001b[0m\u001b[1;33m(\u001b[0m\u001b[0mfrequency\u001b[0m\u001b[1;33m=\u001b[0m\u001b[1;34m'm'\u001b[0m\u001b[1;33m)\u001b[0m\u001b[1;33m)\u001b[0m\u001b[1;33m\u001b[0m\u001b[1;33m\u001b[0m\u001b[0m\n\u001b[0m\u001b[0;32m      7\u001b[0m \u001b[0mff3_monthly\u001b[0m\u001b[1;33m.\u001b[0m\u001b[0mrename\u001b[0m\u001b[1;33m(\u001b[0m\u001b[0mcolumns\u001b[0m\u001b[1;33m=\u001b[0m\u001b[1;33m{\u001b[0m\u001b[1;34m'date_ff_factors'\u001b[0m\u001b[1;33m:\u001b[0m\u001b[1;34m'Date'\u001b[0m\u001b[1;33m}\u001b[0m\u001b[1;33m,\u001b[0m \u001b[0minplace\u001b[0m\u001b[1;33m=\u001b[0m\u001b[1;32mTrue\u001b[0m\u001b[1;33m)\u001b[0m\u001b[1;33m\u001b[0m\u001b[1;33m\u001b[0m\u001b[0m\n\u001b[0;32m      8\u001b[0m \u001b[0mff3_monthly\u001b[0m\u001b[1;33m.\u001b[0m\u001b[0mset_index\u001b[0m\u001b[1;33m(\u001b[0m\u001b[1;34m'Date'\u001b[0m\u001b[1;33m,\u001b[0m \u001b[0minplace\u001b[0m\u001b[1;33m=\u001b[0m\u001b[1;32mTrue\u001b[0m\u001b[1;33m)\u001b[0m\u001b[1;33m\u001b[0m\u001b[1;33m\u001b[0m\u001b[0m\n",
      "\u001b[1;31mNameError\u001b[0m: name 'pd' is not defined"
     ]
    }
   ],
   "source": [
    "#Fama French 3 Factor Model\n",
    "#First is the excess return of the market portfolio (Mkt-rf)\n",
    "# which is Market return minus risk free rate per month\n",
    "#Second is the SMB which is the return on a portfolio of small firms minus the return on large firms\n",
    "# third is the return on a portfolio of value stocks minus that of the growth stocks\n",
    "ff3_monthly = pd.DataFrame(gff.famaFrench3Factor(frequency='m'))\n",
    "ff3_monthly.rename(columns={'date_ff_factors':'Date'}, inplace=True)\n",
    "ff3_monthly.set_index('Date', inplace=True)\n",
    "ff3_monthly"
   ]
  },
  {
   "cell_type": "code",
   "execution_count": 14,
   "metadata": {},
   "outputs": [
    {
     "name": "stdout",
     "output_type": "stream",
     "text": [
      "0.006931905594405599 0.0020048076923076938 0.003346678321678321\n"
     ]
    }
   ],
   "source": [
    "#Using Historical data we checked if these factors are associated with a premium\n",
    "# we see all are positive \n",
    "market_premium=ff3_monthly['Mkt-RF'].mean() # which means market return is .69% higher than risk free rate\n",
    "size_premium=ff3_monthly['SMB'].mean() # Small firms have .20% higher monthly returns than large companies\n",
    "value_premium=ff3_monthly['HML'].mean() # Value stocks have .33% higher monthly returns than growth stocks \n",
    "print(market_premium, size_premium, value_premium)"
   ]
  },
  {
   "cell_type": "code",
   "execution_count": null,
   "metadata": {},
   "outputs": [],
   "source": [
    "#since Tesla is a growth stock, when using Fama French 3 factor model should give us lower returns than when we use CAPM \n",
    "# we check if this is true or not from our analysis\n"
   ]
  },
  {
   "cell_type": "code",
   "execution_count": 15,
   "metadata": {},
   "outputs": [
    {
     "data": {
      "text/plain": [
       "<matplotlib.lines.Line2D at 0x25d45e2be20>"
      ]
     },
     "execution_count": 15,
     "metadata": {},
     "output_type": "execute_result"
    },
    {
     "data": {
      "image/png": "[encoded data removed]",
      "text/plain": [
       "<Figure size 432x288 with 1 Axes>"
      ]
     },
     "metadata": {
      "needs_background": "light"
     },
     "output_type": "display_data"
    }
   ],
   "source": [
    "#When we say Small Cap firms have higher return or Value firms have higher returns, It is based on average returns!\n",
    "plt.plot(ff3_monthly['SMB'])\n",
    "plt.axhline(0, color='red')\n",
    "#return on small companies compared to large compaies is sometimes positive & negative, on average it is positive "
   ]
  },
  {
   "cell_type": "code",
   "execution_count": 16,
   "metadata": {},
   "outputs": [
    {
     "data": {
      "text/plain": [
       "<matplotlib.lines.Line2D at 0x25d45f1e460>"
      ]
     },
     "execution_count": 16,
     "metadata": {},
     "output_type": "execute_result"
    },
    {
     "data": {
      "image/png": "[encoded data removed]",
      "text/plain": [
       "<Figure size 432x288 with 1 Axes>"
      ]
     },
     "metadata": {
      "needs_background": "light"
     },
     "output_type": "display_data"
    }
   ],
   "source": [
    "plt.plot(ff3_monthly['HML'])\n",
    "plt.axhline(0, color='red')\n",
    "#similiarlly investing in value stocks compared to growth stock has higher return on average. atleast at intial data\n"
   ]
  },
  {
   "cell_type": "code",
   "execution_count": 17,
   "metadata": {},
   "outputs": [
    {
     "data": {
      "text/plain": [
       "<matplotlib.lines.Line2D at 0x25d46f42100>"
      ]
     },
     "execution_count": 17,
     "metadata": {},
     "output_type": "execute_result"
    },
    {
     "data": {
      "image/png": "[encoded data removed]",
      "text/plain": [
       "<Figure size 432x288 with 1 Axes>"
      ]
     },
     "metadata": {
      "needs_background": "light"
     },
     "output_type": "display_data"
    }
   ],
   "source": [
    "plt.plot(ff3_monthly['Mkt-RF'])\n",
    "plt.axhline(0, color='red')\n",
    "#since the monthly average of Mkt-RF is .7%\n",
    "# then annual excess return is .7*12= 8.4%\n",
    "# this is quite large, Which tells why indiduals would want to enter stock market\n",
    "# since we used AVG returns we can assume that dont see huge variations\n",
    "# we can massive negative returns in the chart. which would imply that if we a shorter time frame we can have negative returns on the factors"
   ]
  },
  {
   "cell_type": "code",
   "execution_count": null,
   "metadata": {},
   "outputs": [],
   "source": []
  },
  {
   "cell_type": "code",
   "execution_count": null,
   "metadata": {},
   "outputs": [],
   "source": []
  },
  {
   "cell_type": "code",
   "execution_count": null,
   "metadata": {},
   "outputs": [],
   "source": []
  },
  {
   "cell_type": "code",
   "execution_count": 21,
   "metadata": {},
   "outputs": [
    {
     "data": {
      "text/html": [
       "<div>\n",
       "<style scoped>\n",
       "    .dataframe tbody tr th:only-of-type {\n",
       "        vertical-align: middle;\n",
       "    }\n",
       "\n",
       "    .dataframe tbody tr th {\n",
       "        vertical-align: top;\n",
       "    }\n",
       "\n",
       "    .dataframe thead th {\n",
       "        text-align: right;\n",
       "    }\n",
       "</style>\n",
       "<table border=\"1\" class=\"dataframe\">\n",
       "  <thead>\n",
       "    <tr style=\"text-align: right;\">\n",
       "      <th></th>\n",
       "      <th>Mkt-RF</th>\n",
       "      <th>SMB</th>\n",
       "      <th>HML</th>\n",
       "      <th>RF</th>\n",
       "      <th>GOOG</th>\n",
       "    </tr>\n",
       "    <tr>\n",
       "      <th>Date</th>\n",
       "      <th></th>\n",
       "      <th></th>\n",
       "      <th></th>\n",
       "      <th></th>\n",
       "      <th></th>\n",
       "    </tr>\n",
       "  </thead>\n",
       "  <tbody>\n",
       "    <tr>\n",
       "      <th>2016-01-31</th>\n",
       "      <td>-0.0577</td>\n",
       "      <td>-0.0339</td>\n",
       "      <td>0.0207</td>\n",
       "      <td>0.0001</td>\n",
       "      <td>-0.020991</td>\n",
       "    </tr>\n",
       "    <tr>\n",
       "      <th>2016-02-29</th>\n",
       "      <td>-0.0008</td>\n",
       "      <td>0.0081</td>\n",
       "      <td>-0.0057</td>\n",
       "      <td>0.0002</td>\n",
       "      <td>-0.060812</td>\n",
       "    </tr>\n",
       "    <tr>\n",
       "      <th>2016-03-31</th>\n",
       "      <td>0.0696</td>\n",
       "      <td>0.0075</td>\n",
       "      <td>0.0110</td>\n",
       "      <td>0.0002</td>\n",
       "      <td>0.067615</td>\n",
       "    </tr>\n",
       "    <tr>\n",
       "      <th>2016-04-30</th>\n",
       "      <td>0.0092</td>\n",
       "      <td>0.0067</td>\n",
       "      <td>0.0321</td>\n",
       "      <td>0.0001</td>\n",
       "      <td>-0.069723</td>\n",
       "    </tr>\n",
       "    <tr>\n",
       "      <th>2016-05-31</th>\n",
       "      <td>0.0178</td>\n",
       "      <td>-0.0019</td>\n",
       "      <td>-0.0165</td>\n",
       "      <td>0.0001</td>\n",
       "      <td>0.061630</td>\n",
       "    </tr>\n",
       "  </tbody>\n",
       "</table>\n",
       "</div>"
      ],
      "text/plain": [
       "            Mkt-RF     SMB     HML      RF      GOOG\n",
       "Date                                                \n",
       "2016-01-31 -0.0577 -0.0339  0.0207  0.0001 -0.020991\n",
       "2016-02-29 -0.0008  0.0081 -0.0057  0.0002 -0.060812\n",
       "2016-03-31  0.0696  0.0075  0.0110  0.0002  0.067615\n",
       "2016-04-30  0.0092  0.0067  0.0321  0.0001 -0.069723\n",
       "2016-05-31  0.0178 -0.0019 -0.0165  0.0001  0.061630"
      ]
     },
     "execution_count": 21,
     "metadata": {},
     "output_type": "execute_result"
    }
   ],
   "source": [
    "#Merging similiar dates\n",
    "data = ff3_monthly.merge(stock_returns, on = 'Date')\n",
    "data.head()"
   ]
  },
  {
   "cell_type": "code",
   "execution_count": 24,
   "metadata": {},
   "outputs": [
    {
     "name": "stdout",
     "output_type": "stream",
     "text": [
      "0.013934285714285718 0.0010828571428571428 -0.003778571428571429\n"
     ]
    }
   ],
   "source": [
    "market_premium1=data['Mkt-RF'].mean()\n",
    "Size_premium1=data['SMB'].mean()\n",
    "Value1=data['HML'].mean()\n",
    "print(market_premium1, Size_premium1, Value1)"
   ]
  },
  {
   "cell_type": "code",
   "execution_count": 25,
   "metadata": {},
   "outputs": [
    {
     "data": {
      "text/plain": [
       "<matplotlib.lines.Line2D at 0x25d46f95d60>"
      ]
     },
     "execution_count": 25,
     "metadata": {},
     "output_type": "execute_result"
    },
    {
     "data": {
      "image/png": "[encoded data removed]",
      "text/plain": [
       "<Figure size 432x288 with 1 Axes>"
      ]
     },
     "metadata": {
      "needs_background": "light"
     },
     "output_type": "display_data"
    }
   ],
   "source": [
    "plt.plot(data['Mkt-RF'])\n",
    "plt.axhline(0, color='red')"
   ]
  },
  {
   "cell_type": "code",
   "execution_count": 26,
   "metadata": {},
   "outputs": [
    {
     "data": {
      "text/plain": [
       "<matplotlib.lines.Line2D at 0x25d46fec4f0>"
      ]
     },
     "execution_count": 26,
     "metadata": {},
     "output_type": "execute_result"
    },
    {
     "data": {
      "image/png": "[encoded data removed]",
      "text/plain": [
       "<Figure size 432x288 with 1 Axes>"
      ]
     },
     "metadata": {
      "needs_background": "light"
     },
     "output_type": "display_data"
    }
   ],
   "source": [
    "plt.plot(data['HML'])\n",
    "plt.axhline(0, color='red')"
   ]
  },
  {
   "cell_type": "code",
   "execution_count": 28,
   "metadata": {},
   "outputs": [
    {
     "data": {
      "text/plain": [
       "<matplotlib.lines.Line2D at 0x25d470a9190>"
      ]
     },
     "execution_count": 28,
     "metadata": {},
     "output_type": "execute_result"
    },
    {
     "data": {
      "image/png": "[encoded data removed]",
      "text/plain": [
       "<Figure size 432x288 with 1 Axes>"
      ]
     },
     "metadata": {
      "needs_background": "light"
     },
     "output_type": "display_data"
    }
   ],
   "source": [
    "plt.plot(data['SMB'])\n",
    "plt.axhline(0, color='red')"
   ]
  },
  {
   "cell_type": "code",
   "execution_count": 32,
   "metadata": {},
   "outputs": [
    {
     "data": {
      "text/plain": [
       "(60, 5)"
      ]
     },
     "execution_count": 32,
     "metadata": {},
     "output_type": "execute_result"
    }
   ],
   "source": [
    "# considering 5 years of data for our model\n",
    "data = data.tail(60)\n",
    "data.shape"
   ]
  },
  {
   "cell_type": "code",
   "execution_count": 33,
   "metadata": {},
   "outputs": [
    {
     "data": {
      "text/html": [
       "<div>\n",
       "<style scoped>\n",
       "    .dataframe tbody tr th:only-of-type {\n",
       "        vertical-align: middle;\n",
       "    }\n",
       "\n",
       "    .dataframe tbody tr th {\n",
       "        vertical-align: top;\n",
       "    }\n",
       "\n",
       "    .dataframe thead th {\n",
       "        text-align: right;\n",
       "    }\n",
       "</style>\n",
       "<table border=\"1\" class=\"dataframe\">\n",
       "  <thead>\n",
       "    <tr style=\"text-align: right;\">\n",
       "      <th></th>\n",
       "      <th>Mkt-RF</th>\n",
       "      <th>SMB</th>\n",
       "      <th>HML</th>\n",
       "      <th>RF</th>\n",
       "      <th>GOOG</th>\n",
       "      <th>GOOG-RF</th>\n",
       "    </tr>\n",
       "    <tr>\n",
       "      <th>Date</th>\n",
       "      <th></th>\n",
       "      <th></th>\n",
       "      <th></th>\n",
       "      <th></th>\n",
       "      <th></th>\n",
       "      <th></th>\n",
       "    </tr>\n",
       "  </thead>\n",
       "  <tbody>\n",
       "    <tr>\n",
       "      <th>2016-11-30</th>\n",
       "      <td>0.0486</td>\n",
       "      <td>0.0567</td>\n",
       "      <td>0.0821</td>\n",
       "      <td>0.0001</td>\n",
       "      <td>-0.033778</td>\n",
       "      <td>-0.033878</td>\n",
       "    </tr>\n",
       "    <tr>\n",
       "      <th>2016-12-31</th>\n",
       "      <td>0.0182</td>\n",
       "      <td>0.0009</td>\n",
       "      <td>0.0360</td>\n",
       "      <td>0.0003</td>\n",
       "      <td>0.018178</td>\n",
       "      <td>0.017878</td>\n",
       "    </tr>\n",
       "    <tr>\n",
       "      <th>2017-01-31</th>\n",
       "      <td>0.0194</td>\n",
       "      <td>-0.0113</td>\n",
       "      <td>-0.0274</td>\n",
       "      <td>0.0004</td>\n",
       "      <td>0.032352</td>\n",
       "      <td>0.031952</td>\n",
       "    </tr>\n",
       "    <tr>\n",
       "      <th>2017-02-28</th>\n",
       "      <td>0.0357</td>\n",
       "      <td>-0.0204</td>\n",
       "      <td>-0.0167</td>\n",
       "      <td>0.0004</td>\n",
       "      <td>0.033158</td>\n",
       "      <td>0.032758</td>\n",
       "    </tr>\n",
       "    <tr>\n",
       "      <th>2017-03-31</th>\n",
       "      <td>0.0017</td>\n",
       "      <td>0.0113</td>\n",
       "      <td>-0.0333</td>\n",
       "      <td>0.0003</td>\n",
       "      <td>0.007714</td>\n",
       "      <td>0.007414</td>\n",
       "    </tr>\n",
       "  </tbody>\n",
       "</table>\n",
       "</div>"
      ],
      "text/plain": [
       "            Mkt-RF     SMB     HML      RF      GOOG   GOOG-RF\n",
       "Date                                                          \n",
       "2016-11-30  0.0486  0.0567  0.0821  0.0001 -0.033778 -0.033878\n",
       "2016-12-31  0.0182  0.0009  0.0360  0.0003  0.018178  0.017878\n",
       "2017-01-31  0.0194 -0.0113 -0.0274  0.0004  0.032352  0.031952\n",
       "2017-02-28  0.0357 -0.0204 -0.0167  0.0004  0.033158  0.032758\n",
       "2017-03-31  0.0017  0.0113 -0.0333  0.0003  0.007714  0.007414"
      ]
     },
     "execution_count": 33,
     "metadata": {},
     "output_type": "execute_result"
    }
   ],
   "source": [
    "#Googles excess return\n",
    "GOOG_excess_ret = data['GOOG'] - data['RF']\n",
    "data['GOOG-RF'] = GOOG_excess_ret\n",
    "data.head()"
   ]
  },
  {
   "cell_type": "code",
   "execution_count": 34,
   "metadata": {},
   "outputs": [
    {
     "data": {
      "text/html": [
       "<table class=\"simpletable\">\n",
       "<caption>OLS Regression Results</caption>\n",
       "<tr>\n",
       "  <th>Dep. Variable:</th>         <td>GOOG-RF</td>     <th>  R-squared:         </th> <td>   0.531</td>\n",
       "</tr>\n",
       "<tr>\n",
       "  <th>Model:</th>                   <td>OLS</td>       <th>  Adj. R-squared:    </th> <td>   0.506</td>\n",
       "</tr>\n",
       "<tr>\n",
       "  <th>Method:</th>             <td>Least Squares</td>  <th>  F-statistic:       </th> <td>   21.14</td>\n",
       "</tr>\n",
       "<tr>\n",
       "  <th>Date:</th>             <td>Fri, 10 Dec 2021</td> <th>  Prob (F-statistic):</th> <td>2.76e-09</td>\n",
       "</tr>\n",
       "<tr>\n",
       "  <th>Time:</th>                 <td>23:23:40</td>     <th>  Log-Likelihood:    </th> <td>  102.56</td>\n",
       "</tr>\n",
       "<tr>\n",
       "  <th>No. Observations:</th>      <td>    60</td>      <th>  AIC:               </th> <td>  -197.1</td>\n",
       "</tr>\n",
       "<tr>\n",
       "  <th>Df Residuals:</th>          <td>    56</td>      <th>  BIC:               </th> <td>  -188.7</td>\n",
       "</tr>\n",
       "<tr>\n",
       "  <th>Df Model:</th>              <td>     3</td>      <th>                     </th>     <td> </td>   \n",
       "</tr>\n",
       "<tr>\n",
       "  <th>Covariance Type:</th>      <td>nonrobust</td>    <th>                     </th>     <td> </td>   \n",
       "</tr>\n",
       "</table>\n",
       "<table class=\"simpletable\">\n",
       "<tr>\n",
       "     <td></td>       <th>coef</th>     <th>std err</th>      <th>t</th>      <th>P>|t|</th>  <th>[0.025</th>    <th>0.975]</th>  \n",
       "</tr>\n",
       "<tr>\n",
       "  <th>const</th>  <td>    0.0077</td> <td>    0.006</td> <td>    1.225</td> <td> 0.226</td> <td>   -0.005</td> <td>    0.020</td>\n",
       "</tr>\n",
       "<tr>\n",
       "  <th>Mkt-RF</th> <td>    1.0647</td> <td>    0.135</td> <td>    7.895</td> <td> 0.000</td> <td>    0.795</td> <td>    1.335</td>\n",
       "</tr>\n",
       "<tr>\n",
       "  <th>SMB</th>    <td>   -0.4470</td> <td>    0.231</td> <td>   -1.931</td> <td> 0.059</td> <td>   -0.911</td> <td>    0.017</td>\n",
       "</tr>\n",
       "<tr>\n",
       "  <th>HML</th>    <td>   -0.0324</td> <td>    0.162</td> <td>   -0.200</td> <td> 0.843</td> <td>   -0.357</td> <td>    0.292</td>\n",
       "</tr>\n",
       "</table>\n",
       "<table class=\"simpletable\">\n",
       "<tr>\n",
       "  <th>Omnibus:</th>       <td> 7.280</td> <th>  Durbin-Watson:     </th> <td>   2.358</td>\n",
       "</tr>\n",
       "<tr>\n",
       "  <th>Prob(Omnibus):</th> <td> 0.026</td> <th>  Jarque-Bera (JB):  </th> <td>   6.475</td>\n",
       "</tr>\n",
       "<tr>\n",
       "  <th>Skew:</th>          <td> 0.679</td> <th>  Prob(JB):          </th> <td>  0.0393</td>\n",
       "</tr>\n",
       "<tr>\n",
       "  <th>Kurtosis:</th>      <td> 3.864</td> <th>  Cond. No.          </th> <td>    40.9</td>\n",
       "</tr>\n",
       "</table><br/><br/>Warnings:<br/>[1] Standard Errors assume that the covariance matrix of the errors is correctly specified."
      ],
      "text/plain": [
       "<class 'statsmodels.iolib.summary.Summary'>\n",
       "\"\"\"\n",
       "                            OLS Regression Results                            \n",
       "==============================================================================\n",
       "Dep. Variable:                GOOG-RF   R-squared:                       0.531\n",
       "Model:                            OLS   Adj. R-squared:                  0.506\n",
       "Method:                 Least Squares   F-statistic:                     21.14\n",
       "Date:                Fri, 10 Dec 2021   Prob (F-statistic):           2.76e-09\n",
       "Time:                        23:23:40   Log-Likelihood:                 102.56\n",
       "No. Observations:                  60   AIC:                            -197.1\n",
       "Df Residuals:                      56   BIC:                            -188.7\n",
       "Df Model:                           3                                         \n",
       "Covariance Type:            nonrobust                                         \n",
       "==============================================================================\n",
       "                 coef    std err          t      P>|t|      [0.025      0.975]\n",
       "------------------------------------------------------------------------------\n",
       "const          0.0077      0.006      1.225      0.226      -0.005       0.020\n",
       "Mkt-RF         1.0647      0.135      7.895      0.000       0.795       1.335\n",
       "SMB           -0.4470      0.231     -1.931      0.059      -0.911       0.017\n",
       "HML           -0.0324      0.162     -0.200      0.843      -0.357       0.292\n",
       "==============================================================================\n",
       "Omnibus:                        7.280   Durbin-Watson:                   2.358\n",
       "Prob(Omnibus):                  0.026   Jarque-Bera (JB):                6.475\n",
       "Skew:                           0.679   Prob(JB):                       0.0393\n",
       "Kurtosis:                       3.864   Cond. No.                         40.9\n",
       "==============================================================================\n",
       "\n",
       "Warnings:\n",
       "[1] Standard Errors assume that the covariance matrix of the errors is correctly specified.\n",
       "\"\"\""
      ]
     },
     "execution_count": 34,
     "metadata": {},
     "output_type": "execute_result"
    }
   ],
   "source": [
    "#Need Linear Model Built By Teammates here as suggested by Prof. Dan\n",
    "x = data[['Mkt-RF', 'SMB', 'HML']]\n",
    "y = data['GOOG-RF']\n",
    "x1 = sm.add_constant(x) # constant \n",
    "model = sm.OLS(y,x1)\n",
    "\n",
    "results = model.fit()\n",
    "results.summary()\n",
    "# Our Beta is 1.0647 and is highly significant since p Values is below 5%"
   ]
  },
  {
   "cell_type": "code",
   "execution_count": 35,
   "metadata": {},
   "outputs": [
    {
     "data": {
      "text/plain": [
       "const     0.007719\n",
       "Mkt-RF    1.064660\n",
       "SMB      -0.446994\n",
       "HML      -0.032358\n",
       "dtype: float64"
      ]
     },
     "execution_count": 35,
     "metadata": {},
     "output_type": "execute_result"
    }
   ],
   "source": [
    "results.params\n",
    "# as the beta is very close one, it would mean investing in the stocks has a low level of systematic risk\n",
    "# SMB & HML are negative which would mean that when we compute expected return using all the three factors we would get a lower return "
   ]
  },
  {
   "cell_type": "code",
   "execution_count": 38,
   "metadata": {},
   "outputs": [],
   "source": [
    "#Need to edit to match above results!!\n",
    "class Linear_regression:\n",
    "\n",
    "    def __init__(self, x, y, m, c, epochs, L):\n",
    "        self.x = x\n",
    "        self.y = y\n",
    "        self.m = m\n",
    "        self.c = c\n",
    "        self.epochs = epochs\n",
    "        self.L = L\n",
    "        \n",
    "        \n",
    "        \n",
    "    def gradient_descent(self) :\n",
    "        #calculate predicted Y and update m and c values based on the given input\n",
    "        for j in range(self.epochs):\n",
    "            Y_pred = np.matmul(self.x, self.m) + self.c\n",
    "            Y_T = np.transpose(self.y)\n",
    "            X_T = np.transpose(self.x)\n",
    "            Y_dif = Y_T - Y_pred\n",
    "\n",
    "            D_m = - np.matmul(X_T, Y_dif)\n",
    "            D_c = -1 * Y_dif\n",
    "\n",
    "            self.m = self.m - (self.L * D_m)\n",
    "            self.c = self.c - (self.L * D_c)\n",
    "\n",
    "        return (self.m, self.c)\n",
    "    \n",
    "    \n",
    "    def predict(self, x_new):\n",
    "        y_pred = []\n",
    "        Y_pred = np.matmul(self.x*self.m) + self.c\n",
    "        for i in x_new:\n",
    "            y_pred.append(i*self.m + self.c)\n",
    "        return y_pred\n",
    "\n",
    "\n"
   ]
  }
 ],
 "metadata": {
  "kernelspec": {
   "display_name": "Python 3",
   "language": "python",
   "name": "python3"
  },
  "language_info": {
   "codemirror_mode": {
    "name": "ipython",
    "version": 3
   },
   "file_extension": ".py",
   "mimetype": "text/x-python",
   "name": "python",
   "nbconvert_exporter": "python",
   "pygments_lexer": "ipython3",
   "version": "3.8.3"
  }
 },
 "nbformat": 4,
 "nbformat_minor": 4
}
